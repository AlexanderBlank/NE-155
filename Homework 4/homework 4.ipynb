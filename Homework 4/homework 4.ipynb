{
 "cells": [
  {
   "cell_type": "markdown",
   "metadata": {},
   "source": [
    "# 1"
   ]
  },
  {
   "cell_type": "code",
   "execution_count": 1,
   "metadata": {
    "collapsed": false
   },
   "outputs": [
    {
     "data": {
      "text/latex": [
       "\n",
       "matrix b is singular because row 1 is the sum of rows 3 and 4.\n",
       "\n",
       "\n",
       "The inverse of a diagonal matrix is simply a matrix of the reciprocals of each diagonal entry:\n",
       "\\begin{gather*}\n",
       "\\begin{pmatrix}\n",
       "\\frac{1}{2} & 0 & 0\\\\\n",
       "0 & -\\frac{1}{3} & 0\\\\\n",
       "0 & 0 & 2\n",
       "\\end{pmatrix}\n",
       "\\end{gather*}"
      ],
      "text/plain": [
       "<IPython.core.display.Latex object>"
      ]
     },
     "metadata": {},
     "output_type": "display_data"
    }
   ],
   "source": [
    "%%latex\n",
    "\n",
    "matrix b is singular because row 1 is the sum of rows 3 and 4.\n",
    "\n",
    "\n",
    "The inverse of a diagonal matrix is simply a matrix of the reciprocals of each diagonal entry:\n",
    "\\begin{gather*}\n",
    "\\begin{pmatrix}\n",
    "\\frac{1}{2} & 0 & 0\\\\\n",
    "0 & -\\frac{1}{3} & 0\\\\\n",
    "0 & 0 & 2\n",
    "\\end{pmatrix}\n",
    "\\end{gather*}"
   ]
  },
  {
   "cell_type": "markdown",
   "metadata": {},
   "source": [
    "# 2"
   ]
  },
  {
   "cell_type": "markdown",
   "metadata": {},
   "source": [
    "## a"
   ]
  },
  {
   "cell_type": "code",
   "execution_count": 2,
   "metadata": {
    "collapsed": false
   },
   "outputs": [
    {
     "data": {
      "text/latex": [
       "\n",
       "\\begin{gather*}\n",
       "\\det\n",
       "\\begin{pmatrix}\n",
       "3 - \\lambda & -1\\\\\n",
       "-1 & 3 - \\lambda\n",
       "\\end{pmatrix}\n",
       " = 0\\\\\n",
       "\\\\\\\\\n",
       "(3-\\lambda)^2 - 1 = 0\\\\\n",
       "9 - 6\\lambda + \\lambda^2 - 1 = 0\\\\\n",
       "\\lambda = 2, 4\\\\\n",
       "\\text{spectral radius } = 4\\\\\n",
       "\\\\\n",
       "\\text{eigenvectors:}\n",
       "\\\\\n",
       "\\begin{pmatrix}\n",
       "1 & -1\\\\\n",
       "-1 & 1\n",
       "\\end{pmatrix}\\vec{x} = \\vec{0}\\\\\n",
       "\\vec{x} = a\\begin{pmatrix}\n",
       "1 \\\\\n",
       "1\n",
       "\\end{pmatrix}\n",
       "\\\\\n",
       "\\begin{pmatrix}\n",
       "-1 & -1\\\\\n",
       "-1 & -1\n",
       "\\end{pmatrix}\\vec{x} = \\vec{0}\\\\\n",
       "\\vec{x} = b\\begin{pmatrix}\n",
       "1 \\\\\n",
       "-1\n",
       "\\end{pmatrix}\n",
       "\\end{gather*}"
      ],
      "text/plain": [
       "<IPython.core.display.Latex object>"
      ]
     },
     "metadata": {},
     "output_type": "display_data"
    }
   ],
   "source": [
    "%%latex\n",
    "\n",
    "\\begin{gather*}\n",
    "\\det\n",
    "\\begin{pmatrix}\n",
    "3 - \\lambda & -1\\\\\n",
    "-1 & 3 - \\lambda\n",
    "\\end{pmatrix}\n",
    " = 0\\\\\n",
    "\\\\\\\\\n",
    "(3-\\lambda)^2 - 1 = 0\\\\\n",
    "9 - 6\\lambda + \\lambda^2 - 1 = 0\\\\\n",
    "\\lambda = 2, 4\\\\\n",
    "\\text{spectral radius } = 4\\\\\n",
    "\\\\\n",
    "\\text{eigenvectors:}\n",
    "\\\\\n",
    "\\begin{pmatrix}\n",
    "1 & -1\\\\\n",
    "-1 & 1\n",
    "\\end{pmatrix}\\vec{x} = \\vec{0}\\\\\n",
    "\\vec{x} = a\\begin{pmatrix}\n",
    "1 \\\\\n",
    "1\n",
    "\\end{pmatrix}\n",
    "\\\\\n",
    "\\begin{pmatrix}\n",
    "-1 & -1\\\\\n",
    "-1 & -1\n",
    "\\end{pmatrix}\\vec{x} = \\vec{0}\\\\\n",
    "\\vec{x} = b\\begin{pmatrix}\n",
    "1 \\\\\n",
    "-1\n",
    "\\end{pmatrix}\n",
    "\\end{gather*}"
   ]
  },
  {
   "cell_type": "markdown",
   "metadata": {},
   "source": [
    "## b"
   ]
  },
  {
   "cell_type": "code",
   "execution_count": 3,
   "metadata": {
    "collapsed": false
   },
   "outputs": [
    {
     "data": {
      "text/latex": [
       "\n",
       "\\begin{gather*}\n",
       "\\det\n",
       "\\begin{pmatrix}\n",
       "3 - \\lambda & 2 & -1\\\\\n",
       "1 & -2 - \\lambda & 3\\\\\n",
       "2 & 0 & 4- \\lambda\n",
       "\\end{pmatrix}\n",
       " = 0\\\\\n",
       "\\\\\\\\\n",
       "(3-\\lambda)(-2-\\lambda)(4-\\lambda) - 2((4-\\lambda)-6)+2(-2-\\lambda) = 0\\\\\n",
       "(3-\\lambda)(-2-\\lambda)(4-\\lambda) - 2(-2-\\lambda)+2(-2-\\lambda) = 0\\\\\n",
       "(3-\\lambda)(-2-\\lambda)(4-\\lambda) = 0\\\\\n",
       "\\lambda = -2, 3, 4\\\\\n",
       "\\text{spectral radius } = 4\\\\\n",
       "\\\\\n",
       "\\text{eigenvectors:}\n",
       "\\\\\n",
       "\\begin{pmatrix}\n",
       "5 & 2 & -1\\\\\n",
       "1 & 0 & 3\\\\\n",
       "2 & 0 & 6\n",
       "\\end{pmatrix}\\vec{x} = \\vec{0}\\\\\n",
       "\\begin{pmatrix}\n",
       "5 & 2 & -1\\\\\n",
       "1 & 0 & 3\\\\\n",
       "0 & 0 & 0\n",
       "\\end{pmatrix}\n",
       "\\vec{x} = a\\begin{pmatrix}\n",
       "3 \\\\\n",
       "-8 \\\\\n",
       "-1\n",
       "\\end{pmatrix}\n",
       "\\\\\n",
       "\\begin{pmatrix}\n",
       "0 & 2 & -1\\\\\n",
       "1 & -5 & 3\\\\\n",
       "2 & 0 & 1\n",
       "\\end{pmatrix}\\vec{x} = \\vec{0}\\\\\n",
       "\\vec{x} = b\\begin{pmatrix}\n",
       "-1 \\\\\n",
       "1 \\\\\n",
       "2\n",
       "\\end{pmatrix}\n",
       "\\\\\n",
       "\\begin{pmatrix}\n",
       "-1 & 2 & -1\\\\\n",
       "1 & -6 & 3\\\\\n",
       "2 & 0 & 0\n",
       "\\end{pmatrix}\\vec{x} = \\vec{0}\\\\\n",
       "\\vec{x} = c\\begin{pmatrix}\n",
       "0 \\\\\n",
       "1 \\\\\n",
       "2\n",
       "\\end{pmatrix}\n",
       "\\end{gather*}"
      ],
      "text/plain": [
       "<IPython.core.display.Latex object>"
      ]
     },
     "metadata": {},
     "output_type": "display_data"
    }
   ],
   "source": [
    "%%latex\n",
    "\n",
    "\\begin{gather*}\n",
    "\\det\n",
    "\\begin{pmatrix}\n",
    "3 - \\lambda & 2 & -1\\\\\n",
    "1 & -2 - \\lambda & 3\\\\\n",
    "2 & 0 & 4- \\lambda\n",
    "\\end{pmatrix}\n",
    " = 0\\\\\n",
    "\\\\\\\\\n",
    "(3-\\lambda)(-2-\\lambda)(4-\\lambda) - 2((4-\\lambda)-6)+2(-2-\\lambda) = 0\\\\\n",
    "(3-\\lambda)(-2-\\lambda)(4-\\lambda) - 2(-2-\\lambda)+2(-2-\\lambda) = 0\\\\\n",
    "(3-\\lambda)(-2-\\lambda)(4-\\lambda) = 0\\\\\n",
    "\\lambda = -2, 3, 4\\\\\n",
    "\\text{spectral radius } = 4\\\\\n",
    "\\\\\n",
    "\\text{eigenvectors:}\n",
    "\\\\\n",
    "\\begin{pmatrix}\n",
    "5 & 2 & -1\\\\\n",
    "1 & 0 & 3\\\\\n",
    "2 & 0 & 6\n",
    "\\end{pmatrix}\\vec{x} = \\vec{0}\\\\\n",
    "\\begin{pmatrix}\n",
    "5 & 2 & -1\\\\\n",
    "1 & 0 & 3\\\\\n",
    "0 & 0 & 0\n",
    "\\end{pmatrix}\n",
    "\\vec{x} = a\\begin{pmatrix}\n",
    "3 \\\\\n",
    "-8 \\\\\n",
    "-1\n",
    "\\end{pmatrix}\n",
    "\\\\\n",
    "\\begin{pmatrix}\n",
    "0 & 2 & -1\\\\\n",
    "1 & -5 & 3\\\\\n",
    "2 & 0 & 1\n",
    "\\end{pmatrix}\\vec{x} = \\vec{0}\\\\\n",
    "\\vec{x} = b\\begin{pmatrix}\n",
    "-1 \\\\\n",
    "1 \\\\\n",
    "2\n",
    "\\end{pmatrix}\n",
    "\\\\\n",
    "\\begin{pmatrix}\n",
    "-1 & 2 & -1\\\\\n",
    "1 & -6 & 3\\\\\n",
    "2 & 0 & 0\n",
    "\\end{pmatrix}\\vec{x} = \\vec{0}\\\\\n",
    "\\vec{x} = c\\begin{pmatrix}\n",
    "0 \\\\\n",
    "1 \\\\\n",
    "2\n",
    "\\end{pmatrix}\n",
    "\\end{gather*}"
   ]
  },
  {
   "cell_type": "markdown",
   "metadata": {},
   "source": [
    "# 3"
   ]
  },
  {
   "cell_type": "markdown",
   "metadata": {},
   "source": [
    "## a"
   ]
  },
  {
   "cell_type": "code",
   "execution_count": 4,
   "metadata": {
    "collapsed": false
   },
   "outputs": [
    {
     "data": {
      "text/latex": [
       "\n",
       "A unique solution can be found for system 1 by starting with the last equation\n",
       "and substituting back into the equations with more variables.\n",
       "In systems 2 and 4, since the last 3 equations are independent of $x_1$ and $x_2$,\n",
       "one of those variables is free. The last three equations can be considered separately.\n",
       "In system 2, these equations are consistent, and since one of $x_1$ and $x_2$ is free,\n",
       "this system has infititely many solutions.\n",
       "In system 3, the last three equations are contradictory and there do not exist satisfactory\n",
       "values of $x_3$ and $x_4$."
      ],
      "text/plain": [
       "<IPython.core.display.Latex object>"
      ]
     },
     "metadata": {},
     "output_type": "display_data"
    }
   ],
   "source": [
    "%%latex\n",
    "\n",
    "A unique solution can be found for system 1 by starting with the last equation\n",
    "and substituting back into the equations with more variables.\n",
    "In systems 2 and 4, since the last 3 equations are independent of $x_1$ and $x_2$,\n",
    "one of those variables is free. The last three equations can be considered separately.\n",
    "In system 2, these equations are consistent, and since one of $x_1$ and $x_2$ is free,\n",
    "this system has infititely many solutions.\n",
    "In system 3, the last three equations are contradictory and there do not exist satisfactory\n",
    "values of $x_3$ and $x_4$."
   ]
  },
  {
   "cell_type": "markdown",
   "metadata": {},
   "source": [
    "## b"
   ]
  },
  {
   "cell_type": "code",
   "execution_count": 5,
   "metadata": {
    "collapsed": false
   },
   "outputs": [
    {
     "data": {
      "text/latex": [
       "\n",
       "Because these systems are triangular, they can most easily be solved by hand by starting with\n",
       "the bottom equation for $x_4$ and back-subsituting the results into the equations with one more\n",
       "variable."
      ],
      "text/plain": [
       "<IPython.core.display.Latex object>"
      ]
     },
     "metadata": {},
     "output_type": "display_data"
    }
   ],
   "source": [
    "%%latex\n",
    "\n",
    "Because these systems are triangular, they can most easily be solved by hand by starting with\n",
    "the bottom equation for $x_4$ and back-subsituting the results into the equations with one more\n",
    "variable."
   ]
  },
  {
   "cell_type": "markdown",
   "metadata": {},
   "source": [
    "## c"
   ]
  },
  {
   "cell_type": "code",
   "execution_count": 6,
   "metadata": {
    "collapsed": false,
    "scrolled": true
   },
   "outputs": [
    {
     "data": {
      "text/latex": [
       "\n",
       "\\begin{gather*}\n",
       "\\text{system 1:}\\\\\n",
       "x_1 = \\frac{1}{2}\\\\\n",
       "x_2 = -4\\\\\n",
       "x_3 = -1\\\\\n",
       "x_4 = 2\\\\\\\\\n",
       "\\text{system 2:}\\\\\n",
       "4x_1 - x_2 = 6\\\\\n",
       "x_3 = -1\\\\\n",
       "x_4 = 2\n",
       "\\end{gather*}"
      ],
      "text/plain": [
       "<IPython.core.display.Latex object>"
      ]
     },
     "metadata": {},
     "output_type": "display_data"
    }
   ],
   "source": [
    "%%latex\n",
    "\n",
    "\\begin{gather*}\n",
    "\\text{system 1:}\\\\\n",
    "x_1 = \\frac{1}{2}\\\\\n",
    "x_2 = -4\\\\\n",
    "x_3 = -1\\\\\n",
    "x_4 = 2\\\\\\\\\n",
    "\\text{system 2:}\\\\\n",
    "4x_1 - x_2 = 6\\\\\n",
    "x_3 = -1\\\\\n",
    "x_4 = 2\n",
    "\\end{gather*}"
   ]
  },
  {
   "cell_type": "markdown",
   "metadata": {},
   "source": [
    "# 4"
   ]
  },
  {
   "cell_type": "code",
   "execution_count": 7,
   "metadata": {
    "collapsed": false
   },
   "outputs": [
    {
     "data": {
      "text/latex": [
       "\\begin{gather*}\n",
       "1a + 1b + 1c = 1\\\\\n",
       "1a + 2b + 4c = -4\\\\\n",
       "1a + 3b + 9c = 1\\\\\n",
       "\\\\\n",
       "\\begin{pmatrix}\n",
       "1 & 1 & 1\\\\\n",
       "1 & 2 & 4\\\\\n",
       "1 & 3 & 9\n",
       "\\end{pmatrix}\n",
       "\\vec{x} = \\begin{pmatrix}1\\\\-4\\\\1\\end{pmatrix}\\\\\n",
       "\\begin{pmatrix}\n",
       "1 & 1 & 1\\\\\n",
       "0 & 1 & 3\\\\\n",
       "0 & 2 & 8\n",
       "\\end{pmatrix}\n",
       "\\vec{x} = \\begin{pmatrix}1\\\\-5\\\\0\\end{pmatrix}\\\\\n",
       "\\begin{pmatrix}\n",
       "1 & 1 & 1\\\\\n",
       "0 & 1 & 3\\\\\n",
       "0 & 0 & 2\n",
       "\\end{pmatrix}\n",
       "\\vec{x} = \\begin{pmatrix}1\\\\-5\\\\10\\end{pmatrix}\\\\\n",
       "\\\\\n",
       "c = 5\\\\\n",
       "b = -20\\\\\n",
       "a = 16\n",
       "\\end{gather*}"
      ],
      "text/plain": [
       "<IPython.core.display.Latex object>"
      ]
     },
     "metadata": {},
     "output_type": "display_data"
    }
   ],
   "source": [
    "%%latex\n",
    "\\begin{gather*}\n",
    "1a + 1b + 1c = 1\\\\\n",
    "1a + 2b + 4c = -4\\\\\n",
    "1a + 3b + 9c = 1\\\\\n",
    "\\\\\n",
    "\\begin{pmatrix}\n",
    "1 & 1 & 1\\\\\n",
    "1 & 2 & 4\\\\\n",
    "1 & 3 & 9\n",
    "\\end{pmatrix}\n",
    "\\vec{x} = \\begin{pmatrix}1\\\\-4\\\\1\\end{pmatrix}\\\\\n",
    "\\begin{pmatrix}\n",
    "1 & 1 & 1\\\\\n",
    "0 & 1 & 3\\\\\n",
    "0 & 2 & 8\n",
    "\\end{pmatrix}\n",
    "\\vec{x} = \\begin{pmatrix}1\\\\-5\\\\0\\end{pmatrix}\\\\\n",
    "\\begin{pmatrix}\n",
    "1 & 1 & 1\\\\\n",
    "0 & 1 & 3\\\\\n",
    "0 & 0 & 2\n",
    "\\end{pmatrix}\n",
    "\\vec{x} = \\begin{pmatrix}1\\\\-5\\\\10\\end{pmatrix}\\\\\n",
    "\\\\\n",
    "c = 5\\\\\n",
    "b = -20\\\\\n",
    "a = 16\n",
    "\\end{gather*}"
   ]
  },
  {
   "cell_type": "markdown",
   "metadata": {},
   "source": [
    "# 5"
   ]
  },
  {
   "cell_type": "code",
   "execution_count": 8,
   "metadata": {
    "collapsed": false
   },
   "outputs": [
    {
     "data": {
      "text/latex": [
       "        \n",
       "\\begin{gather*}\n",
       "\\begin{pmatrix}\n",
       "1 & 0 & 0\\\\\n",
       "0 & 1 & 0\\\\\n",
       "0 & 0 & 1\n",
       "\\end{pmatrix}\\begin{pmatrix}\n",
       "10 & -7 & 0\\\\\n",
       "-3 & 2 & 6\\\\\n",
       "1 & -1 & 5\n",
       "\\end{pmatrix}\\\\\n",
       "\\begin{pmatrix}\n",
       "1 & 0 & 0\\\\\n",
       "-0.3 & 1 & 0\\\\\n",
       "0.1 & 0 & 1\n",
       "\\end{pmatrix}\\begin{pmatrix}\n",
       "10 & -7 & 0\\\\\n",
       "0 & -0.1 & 6\\\\\n",
       "0 & -0.3 & 5\n",
       "\\end{pmatrix}\\\\\n",
       "\\begin{pmatrix}\n",
       "1 & 0 & 0\\\\\n",
       "-0.3 & 1 & 0\\\\\n",
       "0.1 & 3 & 1\n",
       "\\end{pmatrix}\\begin{pmatrix}\n",
       "10 & -7 & 0\\\\\n",
       "0 & -0.1 & 6\\\\\n",
       "0 & 0 & -13\n",
       "\\end{pmatrix}\\\\\\\\\n",
       "\\begin{pmatrix}\n",
       "1 & 0 & 0\\\\\n",
       "-0.3 & 1 & 0\\\\\n",
       "0.1 & 3 & 1\n",
       "\\end{pmatrix}\\vec{y} = \\begin{pmatrix}7\\\\4\\\\6\\end{pmatrix}\\\\\n",
       "\\vec{y} = \\begin{pmatrix}7\\\\6.1\\\\-13 \\end{pmatrix}\\\\\n",
       "\\begin{pmatrix}\n",
       "10 & -7 & 0\\\\\n",
       "0 & -0.1 & 6\\\\\n",
       "0 & 0 & -13\n",
       "\\end{pmatrix}\\vec{x} = \\begin{pmatrix}7\\\\6.1\\\\-13\\end{pmatrix}\\\\\n",
       "\\vec{x} = \\begin{pmatrix} 0 \\\\ -1  \\\\ 1 \\end{pmatrix}\n",
       "\n",
       "\n",
       "\\end{gather*}"
      ],
      "text/plain": [
       "<IPython.core.display.Latex object>"
      ]
     },
     "metadata": {},
     "output_type": "display_data"
    }
   ],
   "source": [
    "%%latex\n",
    "        \n",
    "\\begin{gather*}\n",
    "\\begin{pmatrix}\n",
    "1 & 0 & 0\\\\\n",
    "0 & 1 & 0\\\\\n",
    "0 & 0 & 1\n",
    "\\end{pmatrix}\\begin{pmatrix}\n",
    "10 & -7 & 0\\\\\n",
    "-3 & 2 & 6\\\\\n",
    "1 & -1 & 5\n",
    "\\end{pmatrix}\\\\\n",
    "\\begin{pmatrix}\n",
    "1 & 0 & 0\\\\\n",
    "-0.3 & 1 & 0\\\\\n",
    "0.1 & 0 & 1\n",
    "\\end{pmatrix}\\begin{pmatrix}\n",
    "10 & -7 & 0\\\\\n",
    "0 & -0.1 & 6\\\\\n",
    "0 & -0.3 & 5\n",
    "\\end{pmatrix}\\\\\n",
    "\\begin{pmatrix}\n",
    "1 & 0 & 0\\\\\n",
    "-0.3 & 1 & 0\\\\\n",
    "0.1 & 3 & 1\n",
    "\\end{pmatrix}\\begin{pmatrix}\n",
    "10 & -7 & 0\\\\\n",
    "0 & -0.1 & 6\\\\\n",
    "0 & 0 & -13\n",
    "\\end{pmatrix}\\\\\\\\\n",
    "\\begin{pmatrix}\n",
    "1 & 0 & 0\\\\\n",
    "-0.3 & 1 & 0\\\\\n",
    "0.1 & 3 & 1\n",
    "\\end{pmatrix}\\vec{y} = \\begin{pmatrix}7\\\\4\\\\6\\end{pmatrix}\\\\\n",
    "\\vec{y} = \\begin{pmatrix}7\\\\6.1\\\\-13 \\end{pmatrix}\\\\\n",
    "\\begin{pmatrix}\n",
    "10 & -7 & 0\\\\\n",
    "0 & -0.1 & 6\\\\\n",
    "0 & 0 & -13\n",
    "\\end{pmatrix}\\vec{x} = \\begin{pmatrix}7\\\\6.1\\\\-13\\end{pmatrix}\\\\\n",
    "\\vec{x} = \\begin{pmatrix} 0 \\\\ -1  \\\\ 1 \\end{pmatrix}\n",
    "\n",
    "\n",
    "\\end{gather*}"
   ]
  }
 ],
 "metadata": {
  "kernelspec": {
   "display_name": "Python 3",
   "language": "python",
   "name": "python3"
  },
  "language_info": {
   "codemirror_mode": {
    "name": "ipython",
    "version": 3
   },
   "file_extension": ".py",
   "mimetype": "text/x-python",
   "name": "python",
   "nbconvert_exporter": "python",
   "pygments_lexer": "ipython3",
   "version": "3.5.1"
  }
 },
 "nbformat": 4,
 "nbformat_minor": 0
}
