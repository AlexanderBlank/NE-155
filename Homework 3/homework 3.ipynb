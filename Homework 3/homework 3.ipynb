{
 "cells": [
  {
   "cell_type": "markdown",
   "metadata": {},
   "source": [
    "# 1"
   ]
  },
  {
   "cell_type": "code",
   "execution_count": 9,
   "metadata": {
    "collapsed": false
   },
   "outputs": [
    {
     "data": {
      "text/latex": [
       "\\begin{gather*}\n",
       "f''(x_i) = af(x_i - 2h) + bf(x_i - h) + cf(x_i) + E\\\\\n",
       "f''(x_i) = a\\left[f(x_i) - 2hf'(x_i) + 2h^2f''(x_i) - 4h^3\\frac{f'''(c)}{3}\\right] + b\\left[f(x_i) - hf'(x_i) + h^2\\frac{f''(x_i)}{2} - h^3\\frac{f'''(c)}{6}\\right] + cf(x_i) \\\\\n",
       "f''(x_i) = (a + b + c)f(x_i) + (-2a - b)hf'(x_i) +  \\left(2a+\\frac{1}{2}b\\right)h^2f''(x_i) + \\left(-\\frac{4}{3}a - \\frac{1}{6}b\\right)h^3f'''(\\mu)\\\\\n",
       "\\\\\n",
       "a + b + c = 0\\\\\n",
       "(-2a - b)h = -2ha - hb = 0\\\\\n",
       "\\left(2a+\\frac{1}{2}b\\right)h^2 = 2h^2a + \\frac{h^2}{2}b = 1\\\\\n",
       "\\\\\n",
       "\\end{gather*}"
      ],
      "text/plain": [
       "<IPython.core.display.Latex object>"
      ]
     },
     "metadata": {},
     "output_type": "display_data"
    }
   ],
   "source": [
    "%%latex\n",
    "\\begin{gather*}\n",
    "f''(x_i) = af(x_i - 2h) + bf(x_i - h) + cf(x_i) + E\\\\\n",
    "f''(x_i) = a\\left[f(x_i) - 2hf'(x_i) + 2h^2f''(x_i) - 4h^3\\frac{f'''(c)}{3}\\right] + b\\left[f(x_i) - hf'(x_i) + h^2\\frac{f''(x_i)}{2} - h^3\\frac{f'''(c)}{6}\\right] + cf(x_i) \\\\\n",
    "f''(x_i) = (a + b + c)f(x_i) + (-2a - b)hf'(x_i) +  \\left(2a+\\frac{1}{2}b\\right)h^2f''(x_i) + \\left(-\\frac{4}{3}a - \\frac{1}{6}b\\right)h^3f'''(\\mu)\\\\\n",
    "\\\\\n",
    "a + b + c = 0\\\\\n",
    "(-2a - b)h = -2ha - hb = 0\\\\\n",
    "\\left(2a+\\frac{1}{2}b\\right)h^2 = 2h^2a + \\frac{h^2}{2}b = 1\\\\\n",
    "\\\\\n",
    "\\end{gather*}"
   ]
  },
  {
   "cell_type": "code",
   "execution_count": 7,
   "metadata": {
    "collapsed": false
   },
   "outputs": [
    {
     "data": {
      "text/plain": [
       "{a: h**(-2), c: h**(-2), b: -2/h**2}"
      ]
     },
     "execution_count": 7,
     "metadata": {},
     "output_type": "execute_result"
    }
   ],
   "source": [
    "from sympy import *\n",
    "a, b, c, h = symbols('a, b, c, h')\n",
    "eq1 = a + b + c\n",
    "eq2 = -2*h*a - h*b\n",
    "eq3 = 2*h**2*a + h**2*b/2 - 1\n",
    "solve([eq1, eq2, eq3], (a, b, c))"
   ]
  },
  {
   "cell_type": "code",
   "execution_count": 18,
   "metadata": {
    "collapsed": false
   },
   "outputs": [
    {
     "data": {
      "text/latex": [
       "\\begin{gather*}\n",
       "\\text{solving with SymPy yields}\\\\\n",
       "a = h^{-2}\\\\\n",
       "b = -2h^{-2}\\\\\n",
       "c = h^{-2}\\\\\n",
       "\\\\\n",
       "\\text{and the error term simplifies to}\\\\\n",
       "\\left(-\\frac{4}{3}a - \\frac{1}{6}b\\right)h^3 = \\left(-\\frac{4}{3} + \\frac{1}{3}\\right)h = -h\n",
       "\\\\\n",
       "f''(x_i) = \\frac{f(x_i-2h) - 2bf(x_i-h) + f(x_i)}{h^2} - hf'''(\\mu)\n",
       "\\end{gather*}"
      ],
      "text/plain": [
       "<IPython.core.display.Latex object>"
      ]
     },
     "metadata": {},
     "output_type": "display_data"
    }
   ],
   "source": [
    "%%latex\n",
    "\\begin{gather*}\n",
    "\\text{solving with SymPy yields}\\\\\n",
    "a = h^{-2}\\\\\n",
    "b = -2h^{-2}\\\\\n",
    "c = h^{-2}\\\\\n",
    "\\\\\n",
    "\\text{and the error term simplifies to}\\\\\n",
    "\\left(-\\frac{4}{3}a - \\frac{1}{6}b\\right)h^3 = \\left(-\\frac{4}{3} + \\frac{1}{3}\\right)h = -h\n",
    "\\\\\n",
    "f''(x_i) = \\frac{f(x_i-2h) - 2bf(x_i-h) + f(x_i)}{h^2} - hf'''(\\mu)\n",
    "\\end{gather*}"
   ]
  },
  {
   "cell_type": "markdown",
   "metadata": {},
   "source": [
    "# 2"
   ]
  },
  {
   "cell_type": "code",
   "execution_count": 21,
   "metadata": {
    "collapsed": false
   },
   "outputs": [
    {
     "data": {
      "text/latex": [
       "let $a = x - x_0, da = dx$\n",
       "\\begin{gather*}\n",
       "P_3(x) = f(x_0)L_0(x) + f(x_1)L_1(x) + f(x_2)L_2(x) + f(x_3)L_3(x)\\\\\\\\\n",
       "L_0 = \\frac{(x - x_1)(x - x_2)(x - x_3)}{(x_0 - x_1)(x_0 - x_2)(x_0 - x_3)} = \\frac{(a - h)(a - 2h)(a - 3h)}{(-h)(-2h)(-3h)}\\\\\\\\\n",
       "L_1 = \\frac{(a)(x - x_2)(x - x_3)}{(x_1 - x_0)(x_1 - x_2)(x_1 - x_3)} = \\frac{(a)(a - 2h)(a - 3h)}{(h)(-h)(-2h)}\\\\\\\\\n",
       "L_2 = \\frac{(a)(x - x_1)(x - x_3)}{(x_2 - x_0)(x_2 - x_1)(x_2 - x_3)} = \\frac{(a)(a - h)(a - 3h)}{(2h)(h)(-h)}\\\\\\\\\n",
       "L_3 = \\frac{(a)(x - x_1)(x - x_2)}{(x_3 - x_0)(x_3 - x_1)(x_3 - x_2)} = \\frac{(a)(a - h)(a - 2h)}{(3h)(2h)(h)}\\\\\n",
       "\\\\\n",
       "\\int_{0}^{3h}\\frac{(a - h)(a - 2h)(a - 3h)}{-6h^3}da = \\frac{3}{8}h\\\\\n",
       "\\int_{0}^{3h}\\frac{(a)(a - 2h)(a - 3h)}{2h^3}da = \\frac{9}{8}h\\\\\n",
       "\\int_{0}^{3h}\\frac{(a)(a - h)(a - 3h)}{-2h^3}da = \\frac{9}{8}h\\\\\n",
       "\\int_{0}^{3h}\\frac{(a)(a - h)(a - 2h)}{6h^3}da = \\frac{3}{8}h\\\\\n",
       "\\\\\\\\\n",
       "\\int_{x_0}^{x_3}f(x) \\approx \\frac{3}{8}hf(x_0) + \\frac{9}{8}hf(x_0 + h) + \\frac{9}{8}hf(x_0 + 2h) + \\frac{3}{8}hf(x_0 + 3h) \\\\= \\frac{3h}{8}\\left[f(x_0) + f(x_0 + h) + f(x_0 + 2h) + f(x_0 + 3h)\\right]\n",
       "\\end{gather*}"
      ],
      "text/plain": [
       "<IPython.core.display.Latex object>"
      ]
     },
     "metadata": {},
     "output_type": "display_data"
    }
   ],
   "source": [
    "%%latex\n",
    "let $a = x - x_0, da = dx$\n",
    "\\begin{gather*}\n",
    "P_3(x) = f(x_0)L_0(x) + f(x_1)L_1(x) + f(x_2)L_2(x) + f(x_3)L_3(x)\\\\\\\\\n",
    "L_0 = \\frac{(x - x_1)(x - x_2)(x - x_3)}{(x_0 - x_1)(x_0 - x_2)(x_0 - x_3)} = \\frac{(a - h)(a - 2h)(a - 3h)}{(-h)(-2h)(-3h)}\\\\\\\\\n",
    "L_1 = \\frac{(a)(x - x_2)(x - x_3)}{(x_1 - x_0)(x_1 - x_2)(x_1 - x_3)} = \\frac{(a)(a - 2h)(a - 3h)}{(h)(-h)(-2h)}\\\\\\\\\n",
    "L_2 = \\frac{(a)(x - x_1)(x - x_3)}{(x_2 - x_0)(x_2 - x_1)(x_2 - x_3)} = \\frac{(a)(a - h)(a - 3h)}{(2h)(h)(-h)}\\\\\\\\\n",
    "L_3 = \\frac{(a)(x - x_1)(x - x_2)}{(x_3 - x_0)(x_3 - x_1)(x_3 - x_2)} = \\frac{(a)(a - h)(a - 2h)}{(3h)(2h)(h)}\\\\\n",
    "\\\\\n",
    "\\int_{0}^{3h}\\frac{(a - h)(a - 2h)(a - 3h)}{-6h^3}da = \\frac{3}{8}h\\\\\n",
    "\\int_{0}^{3h}\\frac{(a)(a - 2h)(a - 3h)}{2h^3}da = \\frac{9}{8}h\\\\\n",
    "\\int_{0}^{3h}\\frac{(a)(a - h)(a - 3h)}{-2h^3}da = \\frac{9}{8}h\\\\\n",
    "\\int_{0}^{3h}\\frac{(a)(a - h)(a - 2h)}{6h^3}da = \\frac{3}{8}h\\\\\n",
    "\\\\\\\\\n",
    "\\int_{x_0}^{x_3}f(x) \\approx \\frac{3}{8}hf(x_0) + \\frac{9}{8}hf(x_0 + h) + \\frac{9}{8}hf(x_0 + 2h) + \\frac{3}{8}hf(x_0 + 3h) \\\\= \\frac{3h}{8}\\left[f(x_0) + f(x_0 + h) + f(x_0 + 2h) + f(x_0 + 3h)\\right]\n",
    "\\end{gather*}"
   ]
  },
  {
   "cell_type": "markdown",
   "metadata": {},
   "source": [
    "# 3"
   ]
  },
  {
   "cell_type": "markdown",
   "metadata": {},
   "source": [
    "## a"
   ]
  },
  {
   "cell_type": "code",
   "execution_count": 28,
   "metadata": {
    "collapsed": false
   },
   "outputs": [
    {
     "data": {
      "text/latex": [
       "\\begin{gather*}\n",
       "E_3(x) = \\int_a^b f(x)dx - \\int_a^b I_3(x)dx\\\\\n",
       "R_3(x) = f(x) - I_3(x)\\\\\n",
       "E_3(x) = \\int_a^b R_3(x)dx\n",
       "\\end{gather*}"
      ],
      "text/plain": [
       "<IPython.core.display.Latex object>"
      ]
     },
     "metadata": {},
     "output_type": "display_data"
    }
   ],
   "source": [
    "%%latex\n",
    "\\begin{gather*}\n",
    "E_3(x) = \\int_a^b f(x)dx - \\int_a^b I_3(x)dx\\\\\n",
    "R_3(x) = f(x) - I_3(x)\\\\\n",
    "E_3(x) = \\int_a^b R_3(x)dx\n",
    "\\end{gather*}"
   ]
  },
  {
   "cell_type": "markdown",
   "metadata": {},
   "source": [
    "## b"
   ]
  },
  {
   "cell_type": "code",
   "execution_count": 36,
   "metadata": {
    "collapsed": false
   },
   "outputs": [
    {
     "data": {
      "text/latex": [
       "The interpolation is third order, so the error is proportional to the fourth derivative of $f$, or\n",
       "\\begin{gather*}\n",
       "\\left(\\frac{\\pi}{2}\\right)^4\\sin\\left(\\frac{\\pi}{2}x\\right)\n",
       "\\end{gather*}\n",
       "The indefinite integral of this function is \n",
       "\\begin{gather*}\n",
       "-\\left(\\frac{\\pi}{2}\\right)^3\\cos\\left(\\frac{\\pi}{2}x\\right)\n",
       "\\end{gather*}\n",
       ", which, because $\\cos$ is limited to $\\pm 1$, is limited to\n",
       "\\begin{gather*}\n",
       "\\pm \\frac{\\pi^3}{8}\n",
       "\\end{gather*}"
      ],
      "text/plain": [
       "<IPython.core.display.Latex object>"
      ]
     },
     "metadata": {},
     "output_type": "display_data"
    }
   ],
   "source": [
    "%%latex\n",
    "The interpolation is third order, so the error is proportional to the fourth derivative of $f$, or\n",
    "\\begin{gather*}\n",
    "\\left(\\frac{\\pi}{2}\\right)^4\\sin\\left(\\frac{\\pi}{2}x\\right)\n",
    "\\end{gather*}\n",
    "The indefinite integral of this function is \n",
    "\\begin{gather*}\n",
    "-\\left(\\frac{\\pi}{2}\\right)^3\\cos\\left(\\frac{\\pi}{2}x\\right)\n",
    "\\end{gather*}\n",
    ", which, because $\\cos$ is limited to $\\pm 1$, is limited to\n",
    "\\begin{gather*}\n",
    "\\pm \\frac{\\pi^3}{8}\n",
    "\\end{gather*}"
   ]
  },
  {
   "cell_type": "markdown",
   "metadata": {},
   "source": [
    "## c"
   ]
  },
  {
   "cell_type": "markdown",
   "metadata": {},
   "source": [
    "I don't know what to do from parts c-e here."
   ]
  },
  {
   "cell_type": "markdown",
   "metadata": {},
   "source": [
    "# 4"
   ]
  },
  {
   "cell_type": "markdown",
   "metadata": {},
   "source": [
    "## c"
   ]
  },
  {
   "cell_type": "code",
   "execution_count": 39,
   "metadata": {
    "collapsed": false
   },
   "outputs": [
    {
     "data": {
      "text/latex": [
       "\\begin{gather*}\n",
       "\\int_2^4 \\frac{x}{\\sqrt{x^2 - 1}} dx\\\\\n",
       "\\sqrt{x^2 - 1} \\Big|_2^4\\\\\n",
       "\\sqrt{4^2 - 1} - \\sqrt{2^2 - 1}\\\\\n",
       "\\sqrt{15} - \\sqrt{3}\n",
       "\\end{gather*}"
      ],
      "text/plain": [
       "<IPython.core.display.Latex object>"
      ]
     },
     "metadata": {},
     "output_type": "display_data"
    }
   ],
   "source": [
    "%%latex\n",
    "\\begin{gather*}\n",
    "\\int_2^4 \\frac{x}{\\sqrt{x^2 - 1}} dx\\\\\n",
    "\\sqrt{x^2 - 1} \\Big|_2^4\\\\\n",
    "\\sqrt{4^2 - 1} - \\sqrt{2^2 - 1}\\\\\n",
    "\\sqrt{15} - \\sqrt{3}\n",
    "\\end{gather*}"
   ]
  },
  {
   "cell_type": "markdown",
   "metadata": {},
   "source": [
    "## b"
   ]
  },
  {
   "cell_type": "code",
   "execution_count": 97,
   "metadata": {
    "collapsed": false
   },
   "outputs": [
    {
     "name": "stdout",
     "output_type": "stream",
     "text": [
      "2.142436054964642\n",
      "0.0015035163261023499\n"
     ]
    }
   ],
   "source": [
    "def compSimp38(f, a, b, n):\n",
    "    h = (b-a)/n\n",
    "    return h/3 * (f(a) + f(b) + sum((i%2)*4*f(a+h*i) + ((i+1)%2)*2*f(a+h*i) for i in range(n)))\n",
    "\n",
    "def func(x):\n",
    "    return x / (x**2 - 1)**0.5\n",
    "\n",
    "print(compSimp38(func, 2, 4, 1024))\n",
    "\n",
    "print(compSimp38(func, 2, 4, 1024) - (15**0.5 - 3**0.5))"
   ]
  },
  {
   "cell_type": "markdown",
   "metadata": {},
   "source": [
    "## c"
   ]
  },
  {
   "cell_type": "code",
   "execution_count": 107,
   "metadata": {
    "collapsed": false
   },
   "outputs": [
    {
     "name": "stdout",
     "output_type": "stream",
     "text": [
      "Populating the interactive namespace from numpy and matplotlib\n",
      "k = 0.770523\n",
      "p = 1.000139\n"
     ]
    },
    {
     "name": "stderr",
     "output_type": "stream",
     "text": [
      "WARNING: pylab import has clobbered these variables: ['ones']\n",
      "`%matplotlib` prevents importing * from pylab and numpy\n"
     ]
    },
    {
     "data": {
      "text/plain": [
       "[<matplotlib.lines.Line2D at 0x287273410b8>]"
      ]
     },
     "execution_count": 107,
     "metadata": {},
     "output_type": "execute_result"
    },
    {
     "data": {
      "image/png": "[encoded data removed]",
      "text/plain": [
       "<matplotlib.figure.Figure at 0x287273cc6d8>"
      ]
     },
     "metadata": {},
     "output_type": "display_data"
    }
   ],
   "source": [
    "%pylab inline\n",
    "import numpy as np\n",
    "from matplotlib import pyplot\n",
    "\n",
    "def error(h):\n",
    "    rightAnswer = 15**0.5 - 3**0.5\n",
    "    return abs(rightAnswer - compSimp38(func, 2, 4, round((4 - 2)/h)))\n",
    "\n",
    "n = 15\n",
    "\n",
    "h = np.matrix(list(2**-i for i in range(n)))\n",
    "E = np.matrix(list(error(2**-i) for i in range(n)))\n",
    "\n",
    "ones = np.matrix([1] * h.size)\n",
    "\n",
    "A_T = np.concatenate([ones, log(h)])\n",
    "A = A_T.transpose()\n",
    "\n",
    "x = (A_T*A)**-1 * A_T * log(E.transpose())\n",
    "\n",
    "k = exp(x[0][0])\n",
    "p = x[1][0]\n",
    "\n",
    "print('k = %f\\np = %f' % (k, p))\n",
    "\n",
    "space = np.linspace(np.amin(h), np.amax(h), 100)\n",
    "E_fit = k*space**p\n",
    "\n",
    "pyplot.loglog(h, E, 'o')\n",
    "pyplot.loglog(space, E_fit.flat)"
   ]
  },
  {
   "cell_type": "markdown",
   "metadata": {},
   "source": [
    "p is one, so the rate of convergence is linear"
   ]
  }
 ],
 "metadata": {
  "kernelspec": {
   "display_name": "Python 3",
   "language": "python",
   "name": "python3"
  },
  "language_info": {
   "codemirror_mode": {
    "name": "ipython",
    "version": 3
   },
   "file_extension": ".py",
   "mimetype": "text/x-python",
   "name": "python",
   "nbconvert_exporter": "python",
   "pygments_lexer": "ipython3",
   "version": "3.5.1"
  }
 },
 "nbformat": 4,
 "nbformat_minor": 0
}
