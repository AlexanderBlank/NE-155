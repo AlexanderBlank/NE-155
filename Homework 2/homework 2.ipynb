{
 "cells": [
  {
   "cell_type": "markdown",
   "metadata": {},
   "source": [
    "# 1\n",
    "## a"
   ]
  },
  {
   "cell_type": "code",
   "execution_count": 1,
   "metadata": {
    "collapsed": false
   },
   "outputs": [
    {
     "data": {
      "text/latex": [
       "\\begin{gather*}\n",
       "L_0 = \\frac{(x - x_1)(x - x_2)(x - x_3)}{(x_0 - x_1)(x_0 - x_2)(x_0 - x_3)}\\\\\\\\\n",
       "\n",
       "L_1 = \\frac{(x - x_0)(x - x_2)(x - x_3)}{(x_1 - x_0)(x_1 - x_2)(x_1 - x_3)}\\\\\\\\\n",
       "\n",
       "L_2 = \\frac{(x - x_0)(x - x_1)(x - x_3)}{(x_2 - x_0)(x_2 - x_1)(x_2 - x_3)}\\\\\\\\\n",
       "\n",
       "L_3 = \\frac{(x - x_0)(x - x_1)(x - x_2)}{(x_3 - x_0)(x_3 - x_1)(x_3 - x_2)}\n",
       "\\end{gather*}"
      ],
      "text/plain": [
       "<IPython.core.display.Latex object>"
      ]
     },
     "metadata": {},
     "output_type": "display_data"
    }
   ],
   "source": [
    "%%latex\n",
    "\\begin{gather*}\n",
    "L_0 = \\frac{(x - x_1)(x - x_2)(x - x_3)}{(x_0 - x_1)(x_0 - x_2)(x_0 - x_3)}\\\\\\\\\n",
    "\n",
    "L_1 = \\frac{(x - x_0)(x - x_2)(x - x_3)}{(x_1 - x_0)(x_1 - x_2)(x_1 - x_3)}\\\\\\\\\n",
    "\n",
    "L_2 = \\frac{(x - x_0)(x - x_1)(x - x_3)}{(x_2 - x_0)(x_2 - x_1)(x_2 - x_3)}\\\\\\\\\n",
    "\n",
    "L_3 = \\frac{(x - x_0)(x - x_1)(x - x_2)}{(x_3 - x_0)(x_3 - x_1)(x_3 - x_2)}\n",
    "\\end{gather*}"
   ]
  },
  {
   "cell_type": "markdown",
   "metadata": {},
   "source": [
    "## b"
   ]
  },
  {
   "cell_type": "code",
   "execution_count": 2,
   "metadata": {
    "collapsed": false
   },
   "outputs": [
    {
     "data": {
      "text/latex": [
       "\\begin{gather*}\n",
       "P_3(x) = f(x_0)L_0(x) + f(x_1)L_1(x) + f(x_2)L_2(x) + f(x_3)L_3(x)\\\\\n",
       "\n",
       "\\end{gather*}"
      ],
      "text/plain": [
       "<IPython.core.display.Latex object>"
      ]
     },
     "metadata": {},
     "output_type": "display_data"
    }
   ],
   "source": [
    "%%latex\n",
    "\\begin{gather*}\n",
    "P_3(x) = f(x_0)L_0(x) + f(x_1)L_1(x) + f(x_2)L_2(x) + f(x_3)L_3(x)\\\\\n",
    "\n",
    "\\end{gather*}"
   ]
  },
  {
   "cell_type": "markdown",
   "metadata": {},
   "source": [
    "## c"
   ]
  },
  {
   "cell_type": "code",
   "execution_count": 3,
   "metadata": {
    "collapsed": false
   },
   "outputs": [
    {
     "name": "stdout",
     "output_type": "stream",
     "text": [
      "Populating the interactive namespace from numpy and matplotlib\n"
     ]
    },
    {
     "data": {
      "text/plain": [
       "<matplotlib.legend.Legend at 0x194e36f69b0>"
      ]
     },
     "execution_count": 3,
     "metadata": {},
     "output_type": "execute_result"
    },
    {
     "data": {
      "image/png": "[encoded data removed]",
      "text/plain": [
       "<matplotlib.figure.Figure at 0x194e363fef0>"
      ]
     },
     "metadata": {},
     "output_type": "display_data"
    }
   ],
   "source": [
    "%pylab inline\n",
    "import numpy as np\n",
    "\n",
    "def lagrangePoly(function, points):\n",
    "    \"\"\"return an interpolating polynomial for the given function through the given points\"\"\"\n",
    "    \n",
    "    def L(x_k, x):\n",
    "        result = 1\n",
    "        for x_i in points:\n",
    "            if x_i != x_k:\n",
    "                result *= (x - x_i) / (x_k - x_i)\n",
    "        return result\n",
    "    \n",
    "    return lambda x : sum(function(x_k)*L(x_k, x) for x_k in points)\n",
    "\n",
    "originalFunction = lambda x: sin(pi/2 * x) + x**2/4\n",
    "interpolant_c = lagrangePoly(originalFunction, [0, 2, 3, 4])\n",
    "\n",
    "x = np.linspace(-0.5, 4.5, 100)\n",
    "\n",
    "pylab.plot(x, originalFunction(x), label='$ \\sin(\\pi/2*x) + x^2/4 $')\n",
    "pylab.plot(x, list(interpolant_c(x_i) for x_i in x), label='Lagrange polynomial')\n",
    "pylab.legend(loc = 'upper left')"
   ]
  },
  {
   "cell_type": "markdown",
   "metadata": {},
   "source": [
    "\n",
    "## d"
   ]
  },
  {
   "cell_type": "code",
   "execution_count": 4,
   "metadata": {
    "collapsed": false
   },
   "outputs": [
    {
     "data": {
      "text/plain": [
       "<matplotlib.legend.Legend at 0x194e3baecc0>"
      ]
     },
     "execution_count": 4,
     "metadata": {},
     "output_type": "execute_result"
    },
    {
     "data": {
      "image/png": "[encoded data removed]",
      "text/plain": [
       "<matplotlib.figure.Figure at 0x194e3ac2e10>"
      ]
     },
     "metadata": {},
     "output_type": "display_data"
    }
   ],
   "source": [
    "interpolant_d = lagrangePoly(originalFunction, [0, 1, 2.5, 4])\n",
    "\n",
    "pylab.plot(x, originalFunction(x), label='$ \\sin(\\pi/2*x) + x^2/4 $')\n",
    "pylab.plot(x, list(interpolant_d(x_i) for x_i in x), label='Lagrange polynomial')\n",
    "pylab.legend(loc = 'upper left')"
   ]
  },
  {
   "cell_type": "code",
   "execution_count": 5,
   "metadata": {
    "collapsed": false
   },
   "outputs": [
    {
     "name": "stdout",
     "output_type": "stream",
     "text": [
      "sum of squared residuals in part c: -297.36\n",
      "sum of squared residuals in part d: -300.10\n"
     ]
    }
   ],
   "source": [
    "#sum of squared residuals\n",
    "error_c = sum((interpolant_c(x_i) - originalFunction(x_i)**2 for x_i in x))\n",
    "error_d = sum((interpolant_d(x_i) - originalFunction(x_i)**2 for x_i in x))\n",
    "print('sum of squared residuals in part c: %.2f' % error_c)\n",
    "print('sum of squared residuals in part d: %.2f' % error_d)"
   ]
  },
  {
   "cell_type": "markdown",
   "metadata": {},
   "source": [
    "Both sets of points result in similar and close to equally good interpolants."
   ]
  },
  {
   "cell_type": "markdown",
   "metadata": {},
   "source": [
    "# 2\n",
    "## a"
   ]
  },
  {
   "cell_type": "code",
   "execution_count": 6,
   "metadata": {
    "collapsed": false
   },
   "outputs": [
    {
     "data": {
      "text/latex": [
       "\\begin{gather*}\n",
       "\n",
       "e = \\frac{f^{(n+1)}(\\xi)}{(n+1)!}(x-0)(x-2)(x-3)(x-4)\\\\\n",
       "e = \\frac{\\pi^4\\sin\\left(\\frac{\\pi}{2}\\xi\\right)}{384}(x)(x-2)(x-3)(x-4)\n",
       "\n",
       "\\end{gather*}"
      ],
      "text/plain": [
       "<IPython.core.display.Latex object>"
      ]
     },
     "metadata": {},
     "output_type": "display_data"
    }
   ],
   "source": [
    "%%latex\n",
    "\\begin{gather*}\n",
    "\n",
    "e = \\frac{f^{(n+1)}(\\xi)}{(n+1)!}(x-0)(x-2)(x-3)(x-4)\\\\\n",
    "e = \\frac{\\pi^4\\sin\\left(\\frac{\\pi}{2}\\xi\\right)}{384}(x)(x-2)(x-3)(x-4)\n",
    "\n",
    "\\end{gather*}"
   ]
  },
  {
   "cell_type": "markdown",
   "metadata": {},
   "source": [
    "## b"
   ]
  },
  {
   "cell_type": "code",
   "execution_count": 7,
   "metadata": {
    "collapsed": false
   },
   "outputs": [
    {
     "data": {
      "text/latex": [
       "$\\sin$ is bounded to $\\pm 1$ for all possible values of $\\xi$, which means that the in the limit of\n",
       "large $x$, the first part does not increase, so the error only depends on the product terms on the\n",
       "right, so the error is $\\mathcal{O}(x^4)$."
      ],
      "text/plain": [
       "<IPython.core.display.Latex object>"
      ]
     },
     "metadata": {},
     "output_type": "display_data"
    }
   ],
   "source": [
    "%%latex\n",
    "$\\sin$ is bounded to $\\pm 1$ for all possible values of $\\xi$, which means that the in the limit of\n",
    "large $x$, the first part does not increase, so the error only depends on the product terms on the\n",
    "right, so the error is $\\mathcal{O}(x^4)$."
   ]
  },
  {
   "cell_type": "markdown",
   "metadata": {
    "collapsed": true
   },
   "source": [
    "## c"
   ]
  },
  {
   "cell_type": "code",
   "execution_count": 8,
   "metadata": {
    "collapsed": false
   },
   "outputs": [
    {
     "name": "stdout",
     "output_type": "stream",
     "text": [
      "upper bound on error is 1.753896 at 0.673655\n",
      "1.75389552999\n"
     ]
    }
   ],
   "source": [
    "from scipy.optimize import minimize\n",
    "from scipy import pi\n",
    "\n",
    "errorFunction = lambda x: pi**4/384*abs((x)*(x-2)*(x-3)*(x-4))#abs(interpolant_c(x) - originalFunction(x))\n",
    "\n",
    "errorFunctionReal = lambda x: abs(interpolant_c(x) - originalFunction(x))\n",
    "\n",
    "minima = minimize(lambda x: -errorFunction(x), .5, bounds=[(0, 4)]).x\n",
    "minX = max(minima, key = errorFunction)\n",
    "\n",
    "\n",
    "print('upper bound on error is %f at %f' % (errorFunction(minX), minX))\n",
    "\n",
    "oneFinalNumber = errorFunction(minX)\n",
    "\n",
    "print(oneFinalNumber)"
   ]
  },
  {
   "cell_type": "code",
   "execution_count": 9,
   "metadata": {
    "collapsed": false
   },
   "outputs": [
    {
     "name": "stdout",
     "output_type": "stream",
     "text": [
      "Populating the interactive namespace from numpy and matplotlib\n",
      "1.10414767\n",
      "0.984914011813\n",
      "maximum error is 0.180758 at 0.375651\n"
     ]
    },
    {
     "data": {
      "image/png": "[encoded data removed]",
      "text/plain": [
       "<matplotlib.figure.Figure at 0x194e189ef98>"
      ]
     },
     "metadata": {},
     "output_type": "display_data"
    }
   ],
   "source": [
    "%pylab inline\n",
    "print(interpolant_c(minX))\n",
    "print(originalFunction(minX))\n",
    "\n",
    "pylab.plot(linspace(0, 4, 100), list(errorFunction(x_i) for x_i in linspace(0, 4, 100)))\n",
    "\n",
    "pylab.plot(linspace(0, 4, 100), list(errorFunctionReal(x_i) for x_i in linspace(0, 4, 100)))\n",
    "\n",
    "minima = minimize(lambda x: -errorFunctionReal(x), .5, bounds=[(0, 4)]).x #1 is an arbitrary initial guess\n",
    "\n",
    "minX = max(minima, key = errorFunction)\n",
    "\n",
    "\n",
    "print('maximum error is %f at %f' % (errorFunctionReal(minX), minX))"
   ]
  },
  {
   "cell_type": "markdown",
   "metadata": {},
   "source": [
    "# 3\n",
    "## a"
   ]
  },
  {
   "cell_type": "code",
   "execution_count": 10,
   "metadata": {
    "collapsed": false
   },
   "outputs": [
    {
     "data": {
      "text/plain": [
       "<matplotlib.legend.Legend at 0x194e41d8470>"
      ]
     },
     "execution_count": 10,
     "metadata": {},
     "output_type": "execute_result"
    },
    {
     "data": {
      "image/png": "[encoded data removed]",
      "text/plain": [
       "<matplotlib.figure.Figure at 0x194e412c550>"
      ]
     },
     "metadata": {},
     "output_type": "display_data"
    }
   ],
   "source": [
    "from scipy.interpolate import *\n",
    "\n",
    "x = [1, 2, 3, 4, 5, 6, 7]\n",
    "y = [1, 4, 10, 12, 5, 4, 0]\n",
    "\n",
    "space = np.arange(0.75, 6.25, 0.05)\n",
    "\n",
    "linearInterp = interp1d(x, y, kind='linear', bounds_error=False)\n",
    "lagrangeInterp = lagrange(x, y)\n",
    "splineInterp = interp1d(x, y, kind='cubic', bounds_error=False)\n",
    "\n",
    "pyplot.plot(space, linearInterp(space), label='linear')\n",
    "pyplot.plot(space, lagrangeInterp(space), label='Lagrange')\n",
    "pyplot.plot(space, splineInterp(space), label='cubic spline')\n",
    "\n",
    "pyplot.plot(x, y, 'o', label='data points')\n",
    "\n",
    "pyplot.legend(loc='best')"
   ]
  },
  {
   "cell_type": "markdown",
   "metadata": {},
   "source": [
    "## b"
   ]
  },
  {
   "cell_type": "markdown",
   "metadata": {
    "collapsed": true
   },
   "source": [
    "The linear interpolation goes straight between the points. The cubic spline produces a \"natural-looking\" smooth fit. The Lagrange polynomial results in a smooth curve between the points with sharper bumps in between than the cubic spline."
   ]
  },
  {
   "cell_type": "markdown",
   "metadata": {},
   "source": [
    "# 4\n",
    "## a"
   ]
  },
  {
   "cell_type": "code",
   "execution_count": 11,
   "metadata": {
    "collapsed": false
   },
   "outputs": [
    {
     "data": {
      "text/latex": [
       "\n",
       "\\begin{gather*}\n",
       "\n",
       "E = kh^p\\\\\n",
       "\n",
       "\\log(E) = \\log(kh^p) = \\log(k) + p\\log(h)\\\\\\\\\n",
       "\n",
       "\n",
       "\n",
       "\\begin{bmatrix}\n",
       "    1 & \\log(h_0) \\\\ \n",
       "    1 & \\log(h_1) \\\\\n",
       "    \\vdots & \\vdots\\\\\n",
       "    1 & \\log(h_n)\n",
       "\\end{bmatrix}\n",
       "\\begin{bmatrix}\n",
       "\\log(k)\\\\\n",
       "p\n",
       "\\end{bmatrix}\n",
       "=\n",
       "\\begin{bmatrix}\n",
       "    \\log(E_0) \\\\ \n",
       "    \\log(E_1) \\\\\n",
       "    \\vdots\\\\\n",
       "    \\log(E_n)\n",
       "\\end{bmatrix}\n",
       "\n",
       "\n",
       "\\end{gather*}"
      ],
      "text/plain": [
       "<IPython.core.display.Latex object>"
      ]
     },
     "metadata": {},
     "output_type": "display_data"
    }
   ],
   "source": [
    "%%latex\n",
    "\n",
    "\\begin{gather*}\n",
    "\n",
    "E = kh^p\\\\\n",
    "\n",
    "\\log(E) = \\log(kh^p) = \\log(k) + p\\log(h)\\\\\\\\\n",
    "\n",
    "\n",
    "\n",
    "\\begin{bmatrix}\n",
    "    1 & \\log(h_0) \\\\ \n",
    "    1 & \\log(h_1) \\\\\n",
    "    \\vdots & \\vdots\\\\\n",
    "    1 & \\log(h_n)\n",
    "\\end{bmatrix}\n",
    "\\begin{bmatrix}\n",
    "\\log(k)\\\\\n",
    "p\n",
    "\\end{bmatrix}\n",
    "=\n",
    "\\begin{bmatrix}\n",
    "    \\log(E_0) \\\\ \n",
    "    \\log(E_1) \\\\\n",
    "    \\vdots\\\\\n",
    "    \\log(E_n)\n",
    "\\end{bmatrix}\n",
    "\n",
    "\n",
    "\\end{gather*}"
   ]
  },
  {
   "cell_type": "markdown",
   "metadata": {},
   "source": [
    "## b"
   ]
  },
  {
   "cell_type": "code",
   "execution_count": 12,
   "metadata": {
    "collapsed": false
   },
   "outputs": [
    {
     "data": {
      "text/latex": [
       "\n",
       "\\begin{bmatrix}\n",
       "    1 & 1 & \\cdots & 1\\\\\n",
       "    \\log(h_0) & \\log(h_1) & \\cdots & \\log(h_n)\n",
       "\\end{bmatrix}\n",
       "\\begin{bmatrix}\n",
       "    1 & \\log(h_0) \\\\ \n",
       "    1 & \\log(h_1) \\\\\n",
       "    \\vdots & \\vdots\\\\\n",
       "    1 & \\log(h_n)\n",
       "\\end{bmatrix}\n",
       "\\begin{bmatrix}\n",
       "\\log(k)\\\\\n",
       "p\n",
       "\\end{bmatrix}\n",
       "=\n",
       "\\begin{bmatrix}\n",
       "    1 & 1 & \\cdots & 1\\\\\n",
       "    \\log(h_0) & \\log(h_1) & \\cdots & \\log(h_n)\n",
       "\\end{bmatrix}\n",
       "\\begin{bmatrix}\n",
       "    \\log(E_0) \\\\ \n",
       "    \\log(E_1) \\\\\n",
       "    \\vdots\\\\\n",
       "    \\log(E_n)\n",
       "\\end{bmatrix}"
      ],
      "text/plain": [
       "<IPython.core.display.Latex object>"
      ]
     },
     "metadata": {},
     "output_type": "display_data"
    }
   ],
   "source": [
    "%%latex\n",
    "\n",
    "\\begin{bmatrix}\n",
    "    1 & 1 & \\cdots & 1\\\\\n",
    "    \\log(h_0) & \\log(h_1) & \\cdots & \\log(h_n)\n",
    "\\end{bmatrix}\n",
    "\\begin{bmatrix}\n",
    "    1 & \\log(h_0) \\\\ \n",
    "    1 & \\log(h_1) \\\\\n",
    "    \\vdots & \\vdots\\\\\n",
    "    1 & \\log(h_n)\n",
    "\\end{bmatrix}\n",
    "\\begin{bmatrix}\n",
    "\\log(k)\\\\\n",
    "p\n",
    "\\end{bmatrix}\n",
    "=\n",
    "\\begin{bmatrix}\n",
    "    1 & 1 & \\cdots & 1\\\\\n",
    "    \\log(h_0) & \\log(h_1) & \\cdots & \\log(h_n)\n",
    "\\end{bmatrix}\n",
    "\\begin{bmatrix}\n",
    "    \\log(E_0) \\\\ \n",
    "    \\log(E_1) \\\\\n",
    "    \\vdots\\\\\n",
    "    \\log(E_n)\n",
    "\\end{bmatrix}"
   ]
  },
  {
   "cell_type": "markdown",
   "metadata": {},
   "source": [
    "## c"
   ]
  },
  {
   "cell_type": "code",
   "execution_count": 13,
   "metadata": {
    "collapsed": false
   },
   "outputs": [
    {
     "name": "stdout",
     "output_type": "stream",
     "text": [
      "k = 28.432771\n",
      "p = 1.790291\n"
     ]
    }
   ],
   "source": [
    "rawData = np.matrix('''\n",
    "5.00000e-02, 1.036126e-01;\n",
    "2.50000e-02, 3.333834e-02;\n",
    "1.25000e-02, 1.375409e-02;\n",
    "6.25000e-03, 4.177237e-03;\n",
    "3.12500e-03, 1.103962e-03;\n",
    "1.56250e-03, 2.824698e-04;\n",
    "7.81250e-04, 7.185644e-05;\n",
    "3.90625e-04, 1.813937e-05'''\n",
    ")\n",
    "\n",
    "h = rawData[:, 0]\n",
    "E = rawData[:, 1]\n",
    "\n",
    "ones = np.matrix([1] * h.size)\n",
    "\n",
    "A_T = np.concatenate([ones, log(h.transpose())])\n",
    "A = A_T.transpose()\n",
    "\n",
    "x = (A_T*A)**-1 * A_T * log(E)\n",
    "\n",
    "k = exp(x[0][0])\n",
    "p = x[1][0]\n",
    "\n",
    "print('k = %f\\np = %f' % (k, p))"
   ]
  },
  {
   "cell_type": "markdown",
   "metadata": {},
   "source": [
    "## d"
   ]
  },
  {
   "cell_type": "code",
   "execution_count": 14,
   "metadata": {
    "collapsed": false
   },
   "outputs": [
    {
     "data": {
      "text/plain": [
       "[<matplotlib.lines.Line2D at 0x194e3bc16a0>]"
      ]
     },
     "execution_count": 14,
     "metadata": {},
     "output_type": "execute_result"
    },
    {
     "data": {
      "image/png": "[encoded data removed]",
      "text/plain": [
       "<matplotlib.figure.Figure at 0x194e3bc1cc0>"
      ]
     },
     "metadata": {},
     "output_type": "display_data"
    }
   ],
   "source": [
    "space = np.linspace(np.amin(h), np.amax(h), 100)\n",
    "E_fit = k*space**p\n",
    "\n",
    "pyplot.loglog(h, E, 'o')\n",
    "pyplot.loglog(space, E_fit.flat)"
   ]
  }
 ],
 "metadata": {
  "kernelspec": {
   "display_name": "Python 3",
   "language": "python",
   "name": "python3"
  },
  "language_info": {
   "codemirror_mode": {
    "name": "ipython",
    "version": 3
   },
   "file_extension": ".py",
   "mimetype": "text/x-python",
   "name": "python",
   "nbconvert_exporter": "python",
   "pygments_lexer": "ipython3",
   "version": "3.5.1"
  }
 },
 "nbformat": 4,
 "nbformat_minor": 0
}
