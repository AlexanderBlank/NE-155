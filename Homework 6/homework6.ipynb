{
 "cells": [
  {
   "cell_type": "markdown",
   "metadata": {},
   "source": [
    "# 1"
   ]
  },
  {
   "cell_type": "markdown",
   "metadata": {},
   "source": [
    "## a"
   ]
  },
  {
   "cell_type": "code",
   "execution_count": 1,
   "metadata": {
    "collapsed": false
   },
   "outputs": [
    {
     "data": {
      "text/latex": [
       "\n",
       "\\begin{gather*}\n",
       "\\frac{d^2\\phi(x)}{dx^2} - \\frac{\\Sigma_a}{D}\\phi(x) = -\\frac{S(x)}{D}\\\\\n",
       "\\phi(a) = \\phi(-a) = 0\\\\\n",
       "\\frac{d^2\\phi(x)}{dx^2} - \\frac{\\Sigma_a}{D}\\phi(x) = 0\\\\\n",
       "\\phi(x) = Ae^{\\sqrt{\\frac{\\Sigma_a}{D}}x} + Be^{-\\sqrt{\\frac{\\Sigma_a}{D}}x}\\\\\n",
       "Ae^{\\sqrt{\\frac{\\Sigma_a}{D}}a} + Be^{-\\sqrt{\\frac{\\Sigma_a}{D}}a} = 0\\\\\n",
       "Ae^{-\\sqrt{\\frac{\\Sigma_a}{D}}a} + Be^{\\sqrt{\\frac{\\Sigma_a}{D}}a} = 0\\\\\n",
       "A = B = 0\\\\\n",
       "\\phi(x) = 0\\\\\n",
       "\\end{gather*}"
      ],
      "text/plain": [
       "<IPython.core.display.Latex object>"
      ]
     },
     "metadata": {},
     "output_type": "display_data"
    }
   ],
   "source": [
    "%%latex\n",
    "\n",
    "\\begin{gather*}\n",
    "\\frac{d^2\\phi(x)}{dx^2} - \\frac{\\Sigma_a}{D}\\phi(x) = -\\frac{S(x)}{D}\\\\\n",
    "\\phi(a) = \\phi(-a) = 0\\\\\n",
    "\\frac{d^2\\phi(x)}{dx^2} - \\frac{\\Sigma_a}{D}\\phi(x) = 0\\\\\n",
    "\\phi(x) = Ae^{\\sqrt{\\frac{\\Sigma_a}{D}}x} + Be^{-\\sqrt{\\frac{\\Sigma_a}{D}}x}\\\\\n",
    "Ae^{\\sqrt{\\frac{\\Sigma_a}{D}}a} + Be^{-\\sqrt{\\frac{\\Sigma_a}{D}}a} = 0\\\\\n",
    "Ae^{-\\sqrt{\\frac{\\Sigma_a}{D}}a} + Be^{\\sqrt{\\frac{\\Sigma_a}{D}}a} = 0\\\\\n",
    "A = B = 0\\\\\n",
    "\\phi(x) = 0\\\\\n",
    "\\end{gather*}"
   ]
  },
  {
   "cell_type": "markdown",
   "metadata": {},
   "source": [
    "## b"
   ]
  },
  {
   "cell_type": "code",
   "execution_count": 2,
   "metadata": {
    "collapsed": false
   },
   "outputs": [
    {
     "data": {
      "text/latex": [
       "\n",
       "\\begin{gather*}\n",
       "\\frac{d^2\\phi(x)}{dx^2} - \\frac{\\Sigma_a}{D}\\phi(x) = -\\frac{S(x)}{D}\\\\\n",
       "\\phi(a) = \\phi(-a) = 0\\\\\n",
       "\\frac{d^2\\phi(x)}{dx^2} - \\frac{\\Sigma_a}{D}\\phi(x) = -\\frac{S_0}{D}\\\\\n",
       "\\phi(x) = Ae^{\\sqrt{\\frac{\\Sigma_a}{D}}x} + Be^{-\\sqrt{\\frac{\\Sigma_a}{D}}x} + \\frac{S_0}{\\Sigma_a}\\\\\n",
       "Ae^{\\sqrt{\\frac{\\Sigma_a}{D}}a} + Be^{-\\sqrt{\\frac{\\Sigma_a}{D}}a} + \\frac{S_0}{\\Sigma_a} = 0\\\\\n",
       "Ae^{-\\sqrt{\\frac{\\Sigma_a}{D}}a} + Be^{\\sqrt{\\frac{\\Sigma_a}{D}}a} + \\frac{S_0}{\\Sigma_a} = 0\\\\\n",
       "A = B = -\\frac{S_0}{2\\Sigma_a\\cosh\\left(\\sqrt{\\frac{\\Sigma_a}{D}}a\\right)}\\\\\n",
       "\\phi(x) = \\frac{S_0}{\\Sigma_a}\\left(1 - \\frac{\\cosh\\left(\\sqrt{\\frac{\\Sigma_a}{D}}x\\right)}{\\cosh\\left(\\sqrt{\\frac{\\Sigma_a}{D}}a\\right)}\\right)\n",
       "\\end{gather*}"
      ],
      "text/plain": [
       "<IPython.core.display.Latex object>"
      ]
     },
     "metadata": {},
     "output_type": "display_data"
    }
   ],
   "source": [
    "%%latex\n",
    "\n",
    "\\begin{gather*}\n",
    "\\frac{d^2\\phi(x)}{dx^2} - \\frac{\\Sigma_a}{D}\\phi(x) = -\\frac{S(x)}{D}\\\\\n",
    "\\phi(a) = \\phi(-a) = 0\\\\\n",
    "\\frac{d^2\\phi(x)}{dx^2} - \\frac{\\Sigma_a}{D}\\phi(x) = -\\frac{S_0}{D}\\\\\n",
    "\\phi(x) = Ae^{\\sqrt{\\frac{\\Sigma_a}{D}}x} + Be^{-\\sqrt{\\frac{\\Sigma_a}{D}}x} + \\frac{S_0}{\\Sigma_a}\\\\\n",
    "Ae^{\\sqrt{\\frac{\\Sigma_a}{D}}a} + Be^{-\\sqrt{\\frac{\\Sigma_a}{D}}a} + \\frac{S_0}{\\Sigma_a} = 0\\\\\n",
    "Ae^{-\\sqrt{\\frac{\\Sigma_a}{D}}a} + Be^{\\sqrt{\\frac{\\Sigma_a}{D}}a} + \\frac{S_0}{\\Sigma_a} = 0\\\\\n",
    "A = B = -\\frac{S_0}{2\\Sigma_a\\cosh\\left(\\sqrt{\\frac{\\Sigma_a}{D}}a\\right)}\\\\\n",
    "\\phi(x) = \\frac{S_0}{\\Sigma_a}\\left(1 - \\frac{\\cosh\\left(\\sqrt{\\frac{\\Sigma_a}{D}}x\\right)}{\\cosh\\left(\\sqrt{\\frac{\\Sigma_a}{D}}a\\right)}\\right)\n",
    "\\end{gather*}"
   ]
  },
  {
   "cell_type": "markdown",
   "metadata": {},
   "source": [
    "## c"
   ]
  },
  {
   "cell_type": "code",
   "execution_count": 3,
   "metadata": {
    "collapsed": false
   },
   "outputs": [
    {
     "data": {
      "text/latex": [
       "\n",
       "\\begin{gather*}\n",
       "\\frac{d^2\\phi(x)}{dx^2} - \\frac{\\Sigma_a}{D}\\phi(x) = -\\frac{S(x)}{D}\\\\\n",
       "\\phi(a) = \\phi(-a) = 0\\\\\n",
       "\\frac{d^2\\phi(x)}{dx^2} - \\frac{\\Sigma_a}{D}\\phi(x) = -\\frac{\\cos(x)}{D}\\\\\n",
       "\\phi(x) = Ae^{\\sqrt{\\frac{\\Sigma_a}{D}}x} + Be^{-\\sqrt{\\frac{\\Sigma_a}{D}}x} + C\\cos(x)\\\\\n",
       "C\\frac{d^2\\cos(x)}{dx^2} - C\\frac{\\Sigma_a}{D}\\cos(x) = -\\frac{\\cos(x)}{D}\\\\\n",
       "-1 - \\frac{\\Sigma_a}{D} = -\\frac{1}{DC}\\\\\n",
       "C = \\frac{1}{D + \\Sigma_a}\\\\\n",
       "\\phi(x) = Ae^{\\sqrt{\\frac{\\Sigma_a}{D}}x} + Be^{-\\sqrt{\\frac{\\Sigma_a}{D}}x} + \\frac{1}{D+\\Sigma_a}\\cos(x)\\\\\n",
       "Ae^{\\sqrt{\\frac{\\Sigma_a}{D}}a} + Be^{-\\sqrt{\\frac{\\Sigma_a}{D}}a} + \\frac{1}{D+\\Sigma_a}\\cos(a) = 0\\\\\n",
       "Ae^{-\\sqrt{\\frac{\\Sigma_a}{D}}a} + Be^{\\sqrt{\\frac{\\Sigma_a}{D}}a} + \\frac{1}{D+\\Sigma_a}\\cos(-a) = 0\\\\\n",
       "A = B = -\\frac{\\cos(a)}{2(D+\\Sigma_a)\\cosh\\left(\\sqrt{\\frac{\\Sigma_a}{D}}a\\right)}\\\\\n",
       "\\phi(x) = \\frac{1}{D+\\Sigma_a}\\left(\\cos(x)-\\cos(a)\\frac{\\cosh\\left(\\sqrt{\\frac{\\Sigma_a}{D}}x\\right)}{\\cosh\\left(\\sqrt{\\frac{\\Sigma_a}{D}}a\\right)}\\right)\n",
       "\\end{gather*}"
      ],
      "text/plain": [
       "<IPython.core.display.Latex object>"
      ]
     },
     "metadata": {},
     "output_type": "display_data"
    }
   ],
   "source": [
    "%%latex\n",
    "\n",
    "\\begin{gather*}\n",
    "\\frac{d^2\\phi(x)}{dx^2} - \\frac{\\Sigma_a}{D}\\phi(x) = -\\frac{S(x)}{D}\\\\\n",
    "\\phi(a) = \\phi(-a) = 0\\\\\n",
    "\\frac{d^2\\phi(x)}{dx^2} - \\frac{\\Sigma_a}{D}\\phi(x) = -\\frac{\\cos(x)}{D}\\\\\n",
    "\\phi(x) = Ae^{\\sqrt{\\frac{\\Sigma_a}{D}}x} + Be^{-\\sqrt{\\frac{\\Sigma_a}{D}}x} + C\\cos(x)\\\\\n",
    "C\\frac{d^2\\cos(x)}{dx^2} - C\\frac{\\Sigma_a}{D}\\cos(x) = -\\frac{\\cos(x)}{D}\\\\\n",
    "-1 - \\frac{\\Sigma_a}{D} = -\\frac{1}{DC}\\\\\n",
    "C = \\frac{1}{D + \\Sigma_a}\\\\\n",
    "\\phi(x) = Ae^{\\sqrt{\\frac{\\Sigma_a}{D}}x} + Be^{-\\sqrt{\\frac{\\Sigma_a}{D}}x} + \\frac{1}{D+\\Sigma_a}\\cos(x)\\\\\n",
    "Ae^{\\sqrt{\\frac{\\Sigma_a}{D}}a} + Be^{-\\sqrt{\\frac{\\Sigma_a}{D}}a} + \\frac{1}{D+\\Sigma_a}\\cos(a) = 0\\\\\n",
    "Ae^{-\\sqrt{\\frac{\\Sigma_a}{D}}a} + Be^{\\sqrt{\\frac{\\Sigma_a}{D}}a} + \\frac{1}{D+\\Sigma_a}\\cos(-a) = 0\\\\\n",
    "A = B = -\\frac{\\cos(a)}{2(D+\\Sigma_a)\\cosh\\left(\\sqrt{\\frac{\\Sigma_a}{D}}a\\right)}\\\\\n",
    "\\phi(x) = \\frac{1}{D+\\Sigma_a}\\left(\\cos(x)-\\cos(a)\\frac{\\cosh\\left(\\sqrt{\\frac{\\Sigma_a}{D}}x\\right)}{\\cosh\\left(\\sqrt{\\frac{\\Sigma_a}{D}}a\\right)}\\right)\n",
    "\\end{gather*}"
   ]
  },
  {
   "cell_type": "markdown",
   "metadata": {},
   "source": [
    "# 2"
   ]
  },
  {
   "cell_type": "code",
   "execution_count": 4,
   "metadata": {
    "collapsed": false
   },
   "outputs": [],
   "source": [
    "a = 4 # cm\n",
    "D = 1 # cm\n",
    "Sigma_a = 0.2 # cm^−1\n",
    "S = 8 # n/(cm^3 s)\n",
    "\n",
    "def fixedSource(h):\n",
    "\n",
    "    q = Sigma_a / D #coefficient of phi\n",
    "    r = -S / D #constant term\n",
    "    n = int(2*a / h) #number of cells\n",
    "\n",
    "    diag_r = [-1 / (2 + h**2*q)] + [-1]*(n-3) #right diagonal\n",
    "    b = [-h**2*r / (2 + h**2*q)] + [-h**2*r]*(n-2) #right-side vector\n",
    "\n",
    "    #Thomas algorithm\n",
    "    for i in range(1, n-2):\n",
    "        diag_r[i] = diag_r[i] / (2 + h**2*q + diag_r[i-1])\n",
    "        b[i] = (b[i] + b[i - 1]) / (2 + h**2*q + diag_r[i-1])\n",
    "\n",
    "    b[n-2] = (b[n-2] + b[n-3]) / (2 + h**2*q + diag_r[n-3])\n",
    "    \n",
    "    phi = [0]*(n+1) #solution for flux\n",
    "\n",
    "    phi[n-1] = b[n-2]\n",
    "    for i in range(n-3, -1, -1):\n",
    "        phi[i+1] = b[i] - diag_r[i]*phi[i+2]\n",
    "\n",
    "    return phi"
   ]
  },
  {
   "cell_type": "code",
   "execution_count": 5,
   "metadata": {
    "collapsed": false
   },
   "outputs": [
    {
     "name": "stdout",
     "output_type": "stream",
     "text": [
      "Populating the interactive namespace from numpy and matplotlib\n"
     ]
    },
    {
     "data": {
      "text/plain": [
       "<matplotlib.text.Text at 0x7fa542ec26a0>"
      ]
     },
     "execution_count": 5,
     "metadata": {},
     "output_type": "execute_result"
    },
    {
     "data": {
      "image/png": "[encoded data removed]",
      "text/plain": [
       "<matplotlib.figure.Figure at 0x7fa56839b780>"
      ]
     },
     "metadata": {},
     "output_type": "display_data"
    }
   ],
   "source": [
    "%pylab inline\n",
    "\n",
    "def fixedSourceAnalytical(x):\n",
    "    return S / Sigma_a * (1 - cosh((Sigma_a/D)**.5*x)/cosh((Sigma_a/D)**.5*a))\n",
    "\n",
    "phi_numerical = fixedSource(0.1)\n",
    "space = linspace(-a, a, int(2*a/0.1)+1)\n",
    "phi_analytical = [fixedSourceAnalytical(x) for x in space]\n",
    "\n",
    "pyplot.plot(space, phi_numerical, 'x', label='numerical solution')\n",
    "pyplot.plot(space, phi_analytical, label='analytical solution')\n",
    "pyplot.legend(loc='best')\n",
    "pyplot.xlabel('displacement (cm)')\n",
    "pyplot.ylabel('flux (n / cm^2 / s)')\n",
    "pyplot.title('flux with a uniform source')"
   ]
  },
  {
   "cell_type": "markdown",
   "metadata": {
    "collapsed": true
   },
   "source": [
    "# 3"
   ]
  },
  {
   "cell_type": "code",
   "execution_count": 6,
   "metadata": {
    "collapsed": false
   },
   "outputs": [
    {
     "name": "stdout",
     "output_type": "stream",
     "text": [
      "Populating the interactive namespace from numpy and matplotlib\n"
     ]
    },
    {
     "data": {
      "text/plain": [
       "<matplotlib.text.Text at 0x7fa542dbfac8>"
      ]
     },
     "execution_count": 6,
     "metadata": {},
     "output_type": "execute_result"
    },
    {
     "data": {
      "image/png": "[encoded data removed]",
      "text/plain": [
       "<matplotlib.figure.Figure at 0x7fa5683e76a0>"
      ]
     },
     "metadata": {},
     "output_type": "display_data"
    }
   ],
   "source": [
    "%pylab inline\n",
    "\n",
    "h_vals = [0.01, 0.05, 0.1, 0.5, 1]\n",
    "\n",
    "numerical_sols = []\n",
    "\n",
    "for h in h_vals:\n",
    "    numerical_sols += [fixedSource(h)]\n",
    "    if a/h < 20:\n",
    "        pyplot.plot(linspace(-a, a, int(2*a/h)+1), numerical_sols[-1], '.', label='numerical solution h = %.2f cm'%h)\n",
    "\n",
    "pyplot.plot(space, phi_analytical, label='analytical solution')\n",
    "pyplot.legend(loc='best')\n",
    "pyplot.xlabel('displacement (cm)')\n",
    "pyplot.ylabel('flux (n / cm^2 / s)')\n",
    "pyplot.title('flux with a uniform source')"
   ]
  },
  {
   "cell_type": "code",
   "execution_count": 7,
   "metadata": {
    "collapsed": false
   },
   "outputs": [
    {
     "name": "stdout",
     "output_type": "stream",
     "text": [
      "Populating the interactive namespace from numpy and matplotlib\n"
     ]
    },
    {
     "name": "stderr",
     "output_type": "stream",
     "text": [
      "/home/ablank/anaconda3/lib/python3.6/site-packages/ipykernel/__main__.py:5: RuntimeWarning: invalid value encountered in double_scalars\n"
     ]
    },
    {
     "data": {
      "text/plain": [
       "<matplotlib.text.Text at 0x7fa542cfa2e8>"
      ]
     },
     "execution_count": 7,
     "metadata": {},
     "output_type": "execute_result"
    },
    {
     "data": {
      "image/png": "[encoded data removed]",
      "text/plain": [
       "<matplotlib.figure.Figure at 0x7fa5475b7630>"
      ]
     },
     "metadata": {},
     "output_type": "display_data"
    }
   ],
   "source": [
    "%pylab inline\n",
    "\n",
    "def maxRelError(num_sol):\n",
    "    h = 2*a / (len(num_sol)-1)\n",
    "    return max(abs(num_sol[i] / fixedSourceAnalytical(-a+i*h) - 1) for i in range(1, len(num_sol)))\n",
    "\n",
    "errors = list(map(maxRelError, numerical_sols))\n",
    "\n",
    "pyplot.loglog(h_vals, errors, 'o')\n",
    "pyplot.xlabel('h (cm)')\n",
    "pyplot.ylabel('maximum relative error')\n",
    "pyplot.title('error vs. mesh size')"
   ]
  },
  {
   "cell_type": "code",
   "execution_count": 8,
   "metadata": {
    "collapsed": false
   },
   "outputs": [
    {
     "name": "stdout",
     "output_type": "stream",
     "text": [
      "Populating the interactive namespace from numpy and matplotlib\n"
     ]
    },
    {
     "data": {
      "text/plain": [
       "<matplotlib.text.Text at 0x7fa542d025f8>"
      ]
     },
     "execution_count": 8,
     "metadata": {},
     "output_type": "execute_result"
    },
    {
     "data": {
      "image/png": "[encoded data removed]",
      "text/plain": [
       "<matplotlib.figure.Figure at 0x7fa5428f9e10>"
      ]
     },
     "metadata": {},
     "output_type": "display_data"
    }
   ],
   "source": [
    "% pylab inline\n",
    "\n",
    "pyplot.loglog(list(map(lambda h: 2*a/h, h_vals)), errors, 'o')\n",
    "\n",
    "pyplot.xlabel('number of cells')\n",
    "pyplot.ylabel('maximum relative error')\n",
    "pyplot.title('error vs. mesh cell count')"
   ]
  },
  {
   "cell_type": "markdown",
   "metadata": {},
   "source": [
    "The plot shows an inverse square relationship between the maximum relative eroor and the number of mesh cells. This is consistent with the error in the central difference method being $O(h^2)$"
   ]
  },
  {
   "cell_type": "markdown",
   "metadata": {},
   "source": [
    "# 4"
   ]
  },
  {
   "cell_type": "code",
   "execution_count": 9,
   "metadata": {
    "collapsed": false
   },
   "outputs": [
    {
     "name": "stdout",
     "output_type": "stream",
     "text": [
      "Populating the interactive namespace from numpy and matplotlib\n"
     ]
    },
    {
     "name": "stderr",
     "output_type": "stream",
     "text": [
      "/home/ablank/anaconda3/lib/python3.6/site-packages/ipykernel/__main__.py:31: FutureWarning: comparison to `None` will result in an elementwise object comparison in the future.\n"
     ]
    }
   ],
   "source": [
    "%pylab inline\n",
    "\n",
    "def Gauss_Seidel(A, b, x_0 = None, tolerance = 1e-6, toleranceType = 'abs'):\n",
    "    if x_0 == None:\n",
    "        x_0 = zeros(shape(b))\n",
    "    \n",
    "    n = shape(b)[0]\n",
    "    x = copy(x_0)\n",
    "    \n",
    "    iterations = 0\n",
    "    err = tolerance+1\n",
    "    \n",
    "    while (err > tolerance and iterations < 1000):\n",
    "        err_sq = 0\n",
    "        for i in range(n):\n",
    "            prev = x[i][0]\n",
    "            x[i][0] = (b[i][0] - sum(A[i][j]*x[j][0] for j in range(n) if i != j)) / A[i][i]\n",
    "            err_sq += (x[i][0] - prev)**2\n",
    "        \n",
    "        err = err_sq**.5\n",
    "        if (toleranceType in ['rel', 'relative']):\n",
    "            err /= norm(x)\n",
    "        \n",
    "        iterations += 1\n",
    "        \n",
    "    \n",
    "    return x, iterations, err\n",
    "\n",
    "\n",
    "def SOR(A, b, omega, x_0 = None, tolerance = 1e-6, toleranceType = 'abs'):\n",
    "    if x_0 == None:\n",
    "        x_0 = zeros(shape(b))\n",
    "    \n",
    "    n = shape(b)[0]\n",
    "    x = copy(x_0)\n",
    "    \n",
    "    iterations = 0\n",
    "    err = tolerance+1\n",
    "    \n",
    "    while (err > tolerance and iterations < 1000):\n",
    "        err_sq = 0\n",
    "        for i in range(n):\n",
    "            prev = x[i][0]\n",
    "            x[i][0] = (1-omega)*x[i][0] + omega*(b[i][0] - sum(A[i][j]*x[j][0] for j in range(n) if i != j)) / A[i][i]\n",
    "            err_sq += (x[i][0] - prev)**2\n",
    "        \n",
    "        err = err_sq**.5\n",
    "        if (toleranceType in ['rel', 'relative']):\n",
    "            err /= norm(x)\n",
    "        \n",
    "        iterations += 1\n",
    "        \n",
    "    \n",
    "    return x, iterations, err\n",
    "\n",
    "Sigma_a = 0.7 # cm^−1\n",
    "nu_Sigma_f = 0.6 # cm^−1\n",
    "h = 0.1 # cm\n",
    "\n",
    "#absolute error tolerance\n",
    "tol_k = 1e-4\n",
    "tol_phi = 1e-4 # n / cm^2 / s\n",
    "\n",
    "n = int(2*a/h) #number of cells\n",
    "\n",
    "phi = array([[n**-0.5] for i in range(n)]) #normalized uniform flux initial guess\n",
    "\n",
    "Q =  [[nu_Sigma_f * phi[i][0]] for i in range(n)] #fission source for phi\n",
    "\n",
    "k = 1.1 #initial guess\n",
    "\n",
    "#matrix corresponding to finite difference discretization of diffusion equation\n",
    "A = [[2*D/h**2 + Sigma_a, -D/h**2]+[0]*(n-2)]+[[0]*j + [-D/h**2, 2*D/h**2 + Sigma_a, -D/h**2] + [0]*(n-j-3) for j in range(n-2)]+[[0]*(n-2)+[-D/h**2, 2*D/h**2 + Sigma_a]]\n",
    "\n",
    "iterations = 0\n",
    "\n",
    "err_k = tol_k + 1\n",
    "\n",
    "while (err_k > tol_k and iterations < 40):\n",
    "    phi_new = SOR(A, Q, 1.12, phi, tol_phi)[0]\n",
    "    Q_new =  [[nu_Sigma_f * phi[i][0]] for i in range(n)]\n",
    "    k_new = sum(Q_new) / sum(Q)\n",
    "    err_k = abs(k_new - k)\n",
    "    k = k_new\n",
    "    phi = phi_new / sqrt(sum(phi_new[i][0] for i in range(n))) #normalize phi\n",
    "    Q = Q_new\n",
    "    iterations += 1"
   ]
  },
  {
   "cell_type": "code",
   "execution_count": 10,
   "metadata": {
    "collapsed": false
   },
   "outputs": [
    {
     "name": "stdout",
     "output_type": "stream",
     "text": [
      "Populating the interactive namespace from numpy and matplotlib\n"
     ]
    },
    {
     "data": {
      "text/plain": [
       "<matplotlib.text.Text at 0x7fa5426dfef0>"
      ]
     },
     "execution_count": 10,
     "metadata": {},
     "output_type": "execute_result"
    },
    {
     "data": {
      "image/png": "[encoded data removed]",
      "text/plain": [
       "<matplotlib.figure.Figure at 0x7fa542654f28>"
      ]
     },
     "metadata": {},
     "output_type": "display_data"
    }
   ],
   "source": [
    "%pylab inline\n",
    "\n",
    "pyplot.plot(linspace(-a, a, int(2*a/h)), phi, '--')\n",
    "\n",
    "pyplot.xlabel('x (cm)')\n",
    "pyplot.ylabel('normalized flux')\n",
    "pyplot.title('eigenvector solution')"
   ]
  },
  {
   "cell_type": "code",
   "execution_count": 12,
   "metadata": {
    "collapsed": false
   },
   "outputs": [
    {
     "name": "stdout",
     "output_type": "stream",
     "text": [
      "iterations: 20\n",
      "k: 0.999575720364\n"
     ]
    }
   ],
   "source": [
    "print('iterations:', iterations)\n",
    "print('k:', k)"
   ]
  },
  {
   "cell_type": "code",
   "execution_count": null,
   "metadata": {
    "collapsed": true
   },
   "outputs": [],
   "source": []
  }
 ],
 "metadata": {
  "kernelspec": {
   "display_name": "Python 3",
   "language": "python",
   "name": "python3"
  },
  "language_info": {
   "codemirror_mode": {
    "name": "ipython",
    "version": 3
   },
   "file_extension": ".py",
   "mimetype": "text/x-python",
   "name": "python",
   "nbconvert_exporter": "python",
   "pygments_lexer": "ipython3",
   "version": "3.6.0"
  }
 },
 "nbformat": 4,
 "nbformat_minor": 0
}
